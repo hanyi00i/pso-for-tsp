{
  "nbformat": 4,
  "nbformat_minor": 0,
  "metadata": {
    "colab": {
      "provenance": [],
      "authorship_tag": "ABX9TyNtPngaGRNHe3Z3LqaCqVpl"
    },
    "kernelspec": {
      "name": "python3",
      "display_name": "Python 3"
    },
    "language_info": {
      "name": "python"
    }
  },
  "cells": [
    {
      "cell_type": "code",
      "execution_count": null,
      "metadata": {
        "colab": {
          "base_uri": "https://localhost:8080/",
          "height": 313
        },
        "id": "NzgEO1B6Z0BZ",
        "outputId": "f8f021d2-37f1-4550-c712-4e3c46b80427"
      },
      "outputs": [
        {
          "output_type": "stream",
          "name": "stdout",
          "text": [
            "The random seed number is 148\n"
          ]
        },
        {
          "output_type": "display_data",
          "data": {
            "text/plain": [
              "<Figure size 432x288 with 1 Axes>"
            ],
            "image/png": "[encoded data removed]"
          },
          "metadata": {}
        }
      ],
      "source": [
        "import numpy as np # import numpy library for array\n",
        "import matplotlib.pyplot as plt # import pyplot library for plot graph\n",
        "import seaborn as sns # import seaborn library for set the white grid\n",
        "import random # import random library for random seed\n",
        "\n",
        "# Step 1: Initialize parameters\n",
        "# r = random.randint(1, 1500) #random generate for 1~1500 seed number\n",
        "print(\"The random seed number is\",148) # display the seed number\n",
        "np.random.seed(178) # fixed random number seed\n",
        "\n",
        "# some parameters with assume that 10 city coordinates are randomly generated\n",
        "city_num = 10  # number of cities\n",
        "size = 50  # population size, that is, the number of particles (salesman)\n",
        "c1 = 0.7  # Acceleration Factor for pbest-xi\n",
        "c2 = 0.8  # Acceleration Factor for gbest-xi\n",
        "iter_num = 20  # the maximum number of iterations of the algorithm\n",
        "fitneess_value_list = []  # the optimal solution for each iteration\n",
        "\n",
        "# Randomly generate the coordinates of city_num cities, note that the sampling is not replaced\n",
        "X = np.random.choice(list(range(1, 100)), size=city_num, replace=False) # x coordinates of cities, np.array\n",
        "Y = np.random.choice(list(range(1, 100)), size=city_num, replace=False) # y coordinates of cities, np.array\n",
        "n = [0, 1, 2, 3, 4, 5, 6, 7, 8, 9] # cities labels\n",
        "sns.set_style('whitegrid') # set the white grid for better view\n",
        "fig, ax = plt.subplots() # subplot for insert cities label\n",
        "ax.scatter(X, Y, color='r') # set the cities colour\n",
        "plt.title('Coordination of City') # title of graph\n",
        "plt.xlabel('Distance for X-axis (km)') # label of x-axis\n",
        "plt.ylabel('Distance for Y-axis (km)') # lable of y-axis\n",
        "for i, txt in enumerate(n): # loop for 10 cities\n",
        "    ax.annotate(txt, (X[i], Y[i])) # add cities labels"
      ]
    },
    {
      "cell_type": "code",
      "source": [
        "# Step 2: distance function and fitness function\n",
        "\n",
        "def calculate_distance(X, Y): # function to calculate the distance between cities\n",
        "    distance_matrix = np.zeros((city_num, city_num)) # initialize numpy matrix to store the result for two cities\n",
        "    for i in range(city_num): # first city\n",
        "        for j in range(city_num): # second city\n",
        "            if i == j: #if two cities at the same coordinate\n",
        "                continue # distance is zero\n",
        "            dis = np.sqrt((X[i] - X[j]) ** 2 + (Y[i] - Y[j]) ** 2)  # Euclidean distance between two cities calculation\n",
        "            distance_matrix[i][j] = dis # assign the distance for that two cities\n",
        "    return distance_matrix # return the value of distance\n",
        "\n",
        "def fitness_func(distance_matrix, xi): # function to calculate the fitness distance of objective function value\n",
        "    total_distance = 0 # initialize total distance\n",
        "    for i in range(1, city_num): # loop from starting city to last city\n",
        "        start = xi[i - 1] # start city coordinate\n",
        "        end = xi[i] # last city coordinate\n",
        "        total_distance += distance_matrix[start][end] # adding the distance between two city to total distance\n",
        "    total_distance += distance_matrix[end][xi[0]]  # move from the last city to the starting city\n",
        "    return total_distance # return the total distance in the solution of PSO (xi)"
      ],
      "metadata": {
        "id": "DcZdCqDpaI7w"
      },
      "execution_count": null,
      "outputs": []
    },
    {
      "cell_type": "code",
      "source": [
        "# Step 3: Plot the graph function of the optimal solution\n",
        "\n",
        "def plot_tsp(gbest): # function to draw a graph of the optimal solution\n",
        "    n = [0, 1, 2, 3, 4, 5, 6, 7, 8, 9] # cities labels\n",
        "    sns.set_style('whitegrid') # set the white grid for better view\n",
        "    fig, ax = plt.subplots() # subplot for insert cities label\n",
        "    ax.scatter(X, Y, color='r') # set the cities colour\n",
        "    plt.title('Coordination of City') # title of graph\n",
        "    plt.xlabel('Distance for X-axis (km)') # label of x-axis\n",
        "    plt.ylabel('Distance for Y-axis (km)') # lable of y-axis\n",
        "    for i, txt in enumerate(n): # loop for 10 cities\n",
        "        ax.annotate(txt, (X[i], Y[i])) # add cities labels\n",
        "\n",
        "    for i in range(1, city_num): # loop from starting city to last city\n",
        "        start_x, start_y = X[gbest[i - 1]], Y[gbest[i - 1]] # first city coordinates\n",
        "        end_x, end_y = X[gbest[i]], Y[gbest[i]] # second city coordinates\n",
        "        plt.plot([start_x, end_x], [start_y, end_y], color='b', alpha=0.8) # draw a line to connect first and second city\n",
        "    start_x, start_y = X[gbest[0]], Y[gbest[0]] # assign starting city coordinates\n",
        "    plt.plot([start_x, end_x], [start_y, end_y], color='b', alpha=0.8) # draw a line to connect starting and last city"
      ],
      "metadata": {
        "id": "nFS-NZOjaUD2"
      },
      "execution_count": null,
      "outputs": []
    },
    {
      "cell_type": "code",
      "source": [
        "# Step 4: Exchange sequence function and exchange operation\n",
        "def get_ss(xbest, xi, r): # exchange sequence function, r = c1 or c2\n",
        "    velocity_ss = [] # velocity of particle, exchange sequence ss\n",
        "    for i in range(len(xi)): # looping for the range of xi, current personal best route\n",
        "        if xi[i] != xbest[i]: # if the current index particle element is not equal to the optimal particle element (pbest or gbest) \n",
        "             j = np.where(xi == xbest[i])[0][0] # find the index of the element where the current particle is different from the optimal particle solution\n",
        "             so = (i, j, r) # get the commutator, which means to operate on i, j with the probability of r\n",
        "             velocity_ss.append(so) # append the velocity of exchange sequence\n",
        "             xi[i], xi[j] = xi[j], xi[i] # perform exchange sequence operation\n",
        "    return velocity_ss # return exchange subsequence\n",
        "\n",
        "def do_ss(xi, ss): # function to update particle position\n",
        "    for i, j, r in ss: # looping for swap sequence consisting of swap subs\n",
        "        rand = np.random.random() # assign a random number between 0 and 1\n",
        "        if rand <= r: # if random number smaller or equal to r\n",
        "            xi[i], xi[j] = xi[j], xi[i] # perform exchange sequence operation\n",
        "    return xi # return sequence xi, current personal best route solution"
      ],
      "metadata": {
        "id": "7of43llmaXY3"
      },
      "execution_count": null,
      "outputs": []
    },
    {
      "cell_type": "code",
      "source": [
        "# Step 5: PSO\n",
        "# Step 5.1: Calculate the distance matrix between cities\n",
        "distance_matrix = calculate_distance(X, Y) # compute the distance matrix between two cities"
      ],
      "metadata": {
        "id": "bcxQr8g0aoVO"
      },
      "execution_count": null,
      "outputs": []
    },
    {
      "cell_type": "code",
      "source": [
        "# Step 5.2: Initialize the position of each particle of the population as the individual historical optimal solution pbest. \n",
        "XX = np.zeros((size, city_num), dtype=int) # Use a 50*10 matrix to represent the population, row represents a particle from 0 to 9, indicating the order of city visits\n",
        "for i in range(size): # looping for the particles (salesman)\n",
        "    XX[i] = np.random.choice(list(range(city_num)), size=city_num, replace=False) # random the position of each particles (salesman)"
      ],
      "metadata": {
        "id": "Prv7K-BJa0tb"
      },
      "execution_count": null,
      "outputs": []
    },
    {
      "cell_type": "code",
      "source": [
        "# Step 5.3: Calculate the fitness of each particle\n",
        "pbest = XX # initialize personal particle optimal solution route\n",
        "pbest_fitness = np.zeros((size, 1)) # initialize the personal best fitness distance in numpy matrix\n",
        "for i in range(size): # looping for the particles (salesman)\n",
        "    pbest_fitness[i] = fitness_func(distance_matrix, xi=XX[i]) # assign the personal best fitness distance with current distance and each position"
      ],
      "metadata": {
        "id": "KqtcCbBSa57f"
      },
      "execution_count": null,
      "outputs": []
    },
    {
      "cell_type": "code",
      "source": [
        "# Step 5.4: Calculate the global fitness and the corresponding solution gbest\n",
        "gbest = XX[pbest_fitness.argmin()] # assign personal best route to global best route\n",
        "gbest_fitness = pbest_fitness.min() # assign the personal best fitness to global best fitness distance"
      ],
      "metadata": {
        "id": "Xfjh8eyNa9H4"
      },
      "execution_count": null,
      "outputs": []
    },
    {
      "cell_type": "markdown",
      "source": [
        "**Han**"
      ],
      "metadata": {
        "id": "mxY10A66hQux"
      }
    },
    {
      "cell_type": "code",
      "source": [
        "# Step 5.5: iterative optimization and record algorithm iteration effect\n",
        "\n",
        "import pandas as pd # import pandas library\n",
        "result = np.zeros(iter_num) # result np for storing global best fitness\n",
        "yes = np.zeros(iter_num, dtype=int) # yes np for storing improved count\n",
        "iter = np.zeros(iter_num, dtype=int) # iter np for storing iteration count\n",
        "\n",
        "for i in range(iter_num):  # traversing the number of iterations\n",
        "  for j in range(size):  # iterate over each particle\n",
        "    pbesti = pbest[j].copy() # personal best route, use copy here, otherwise there will be a shallow copy problem\n",
        "    xi = XX[j].copy() # personal best route\n",
        "    # Calculate the exchange sequence\n",
        "    ss1 = get_ss(pbesti, xi, c1) # c1(pbest-xi)\n",
        "    ss2 = get_ss(gbest, xi, c2)  # c2(gbest-xi)\n",
        "    ss = ss1 + ss2 # v = c1(pbest-xi) + c2(gbest-xi)\n",
        "    xi = do_ss(xi, ss) # Perform a commutation operation for particle position update, x = x + v\n",
        "    fitness_new = fitness_func(distance_matrix, xi) # assign new personal best distance for each particle\n",
        "    fitness_old = pbest_fitness[j] # assign old personal best distance for each particle\n",
        "    if fitness_old > fitness_new: # judging whether new personal fitness is better\n",
        "        pbest_fitness[j] = fitness_new # assign new personal fitness to personal best distance\n",
        "        pbest[j] = xi # assign new personal best route to personal best route\n",
        "  gbest_fitness_new = pbest_fitness.min() # assign the minimum personal best fitness value to global new best fitness\n",
        "  iter[i] = i+1 # assign iterative count to iter np\n",
        "  gbest_new = pbest[pbest_fitness.argmin()] # assign new best global route\n",
        "  if gbest_fitness_new < gbest_fitness: # judging whether new global fitness is better\n",
        "    yes[i] = 1 # assign improved count to yes np\n",
        "    gbest_fitness = gbest_fitness_new # assign new global fitness to global best distance\n",
        "    gbest = gbest_new # assign new best global route to global best route\n",
        "    result[i] = gbest_fitness_new # assign new global fitness to result np\n",
        "    print('The', i+1, 'iteration result wih improvement:', result[i]) # show the iteration if distance improved\n",
        "  fitneess_value_list.append(gbest_fitness)  # add global best fitness to fitness value list\n",
        "\n",
        "df = pd.DataFrame({'Iteration':iter,'Shortest Distance':fitneess_value_list,'Updated':result,'Improved':yes}) # build a table data frame\n",
        "plt.plot(fitneess_value_list) # plot the Global Shortest Distance\n",
        "plt.title('Shortest Path') # plot the title\n",
        "plt.xlabel('Iteration') # plot the label for x-axis\n",
        "plt.ylabel('Distance (km)') # plot the label for y-axis\n",
        "plt.show() # show the graph\n",
        "df # show the data frame table"
      ],
      "metadata": {
        "id": "lRfk-2NSbBkj",
        "colab": {
          "base_uri": "https://localhost:8080/",
          "height": 1000
        },
        "outputId": "0f2e42b0-83ea-454a-d8ba-1e3f6d701b36"
      },
      "execution_count": null,
      "outputs": [
        {
          "output_type": "stream",
          "name": "stdout",
          "text": [
            "The 1 iteration result wih improvement: 417.35634023290106\n",
            "The 3 iteration result wih improvement: 415.8242651388289\n",
            "The 4 iteration result wih improvement: 394.3309952338676\n",
            "The 5 iteration result wih improvement: 393.23691572767035\n",
            "The 10 iteration result wih improvement: 377.99628762734955\n",
            "The 12 iteration result wih improvement: 374.6237042690065\n",
            "The 14 iteration result wih improvement: 309.41584304213563\n",
            "The 19 iteration result wih improvement: 305.5068322926727\n"
          ]
        },
        {
          "output_type": "display_data",
          "data": {
            "text/plain": [
              "<Figure size 432x288 with 1 Axes>"
            ],
            "image/png": "[encoded data removed]"
          },
          "metadata": {}
        },
        {
          "output_type": "execute_result",
          "data": {
            "text/plain": [
              "    Iteration  Shortest Distance     Updated  Improved\n",
              "0           1         417.356340  417.356340         1\n",
              "1           2         417.356340    0.000000         0\n",
              "2           3         415.824265  415.824265         1\n",
              "3           4         394.330995  394.330995         1\n",
              "4           5         393.236916  393.236916         1\n",
              "5           6         393.236916    0.000000         0\n",
              "6           7         393.236916    0.000000         0\n",
              "7           8         393.236916    0.000000         0\n",
              "8           9         393.236916    0.000000         0\n",
              "9          10         377.996288  377.996288         1\n",
              "10         11         377.996288    0.000000         0\n",
              "11         12         374.623704  374.623704         1\n",
              "12         13         374.623704    0.000000         0\n",
              "13         14         309.415843  309.415843         1\n",
              "14         15         309.415843    0.000000         0\n",
              "15         16         309.415843    0.000000         0\n",
              "16         17         309.415843    0.000000         0\n",
              "17         18         309.415843    0.000000         0\n",
              "18         19         305.506832  305.506832         1\n",
              "19         20         305.506832    0.000000         0"
            ],
            "text/html": [
              "\n",
              "  <div id=\"df-ce3e0ed4-8879-4f66-8583-e9df1335f9ac\">\n",
              "    <div class=\"colab-df-container\">\n",
              "      <div>\n",
              "<style scoped>\n",
              "    .dataframe tbody tr th:only-of-type {\n",
              "        vertical-align: middle;\n",
              "    }\n",
              "\n",
              "    .dataframe tbody tr th {\n",
              "        vertical-align: top;\n",
              "    }\n",
              "\n",
              "    .dataframe thead th {\n",
              "        text-align: right;\n",
              "    }\n",
              "</style>\n",
              "<table border=\"1\" class=\"dataframe\">\n",
              "  <thead>\n",
              "    <tr style=\"text-align: right;\">\n",
              "      <th></th>\n",
              "      <th>Iteration</th>\n",
              "      <th>Shortest Distance</th>\n",
              "      <th>Updated</th>\n",
              "      <th>Improved</th>\n",
              "    </tr>\n",
              "  </thead>\n",
              "  <tbody>\n",
              "    <tr>\n",
              "      <th>0</th>\n",
              "      <td>1</td>\n",
              "      <td>417.356340</td>\n",
              "      <td>417.356340</td>\n",
              "      <td>1</td>\n",
              "    </tr>\n",
              "    <tr>\n",
              "      <th>1</th>\n",
              "      <td>2</td>\n",
              "      <td>417.356340</td>\n",
              "      <td>0.000000</td>\n",
              "      <td>0</td>\n",
              "    </tr>\n",
              "    <tr>\n",
              "      <th>2</th>\n",
              "      <td>3</td>\n",
              "      <td>415.824265</td>\n",
              "      <td>415.824265</td>\n",
              "      <td>1</td>\n",
              "    </tr>\n",
              "    <tr>\n",
              "      <th>3</th>\n",
              "      <td>4</td>\n",
              "      <td>394.330995</td>\n",
              "      <td>394.330995</td>\n",
              "      <td>1</td>\n",
              "    </tr>\n",
              "    <tr>\n",
              "      <th>4</th>\n",
              "      <td>5</td>\n",
              "      <td>393.236916</td>\n",
              "      <td>393.236916</td>\n",
              "      <td>1</td>\n",
              "    </tr>\n",
              "    <tr>\n",
              "      <th>5</th>\n",
              "      <td>6</td>\n",
              "      <td>393.236916</td>\n",
              "      <td>0.000000</td>\n",
              "      <td>0</td>\n",
              "    </tr>\n",
              "    <tr>\n",
              "      <th>6</th>\n",
              "      <td>7</td>\n",
              "      <td>393.236916</td>\n",
              "      <td>0.000000</td>\n",
              "      <td>0</td>\n",
              "    </tr>\n",
              "    <tr>\n",
              "      <th>7</th>\n",
              "      <td>8</td>\n",
              "      <td>393.236916</td>\n",
              "      <td>0.000000</td>\n",
              "      <td>0</td>\n",
              "    </tr>\n",
              "    <tr>\n",
              "      <th>8</th>\n",
              "      <td>9</td>\n",
              "      <td>393.236916</td>\n",
              "      <td>0.000000</td>\n",
              "      <td>0</td>\n",
              "    </tr>\n",
              "    <tr>\n",
              "      <th>9</th>\n",
              "      <td>10</td>\n",
              "      <td>377.996288</td>\n",
              "      <td>377.996288</td>\n",
              "      <td>1</td>\n",
              "    </tr>\n",
              "    <tr>\n",
              "      <th>10</th>\n",
              "      <td>11</td>\n",
              "      <td>377.996288</td>\n",
              "      <td>0.000000</td>\n",
              "      <td>0</td>\n",
              "    </tr>\n",
              "    <tr>\n",
              "      <th>11</th>\n",
              "      <td>12</td>\n",
              "      <td>374.623704</td>\n",
              "      <td>374.623704</td>\n",
              "      <td>1</td>\n",
              "    </tr>\n",
              "    <tr>\n",
              "      <th>12</th>\n",
              "      <td>13</td>\n",
              "      <td>374.623704</td>\n",
              "      <td>0.000000</td>\n",
              "      <td>0</td>\n",
              "    </tr>\n",
              "    <tr>\n",
              "      <th>13</th>\n",
              "      <td>14</td>\n",
              "      <td>309.415843</td>\n",
              "      <td>309.415843</td>\n",
              "      <td>1</td>\n",
              "    </tr>\n",
              "    <tr>\n",
              "      <th>14</th>\n",
              "      <td>15</td>\n",
              "      <td>309.415843</td>\n",
              "      <td>0.000000</td>\n",
              "      <td>0</td>\n",
              "    </tr>\n",
              "    <tr>\n",
              "      <th>15</th>\n",
              "      <td>16</td>\n",
              "      <td>309.415843</td>\n",
              "      <td>0.000000</td>\n",
              "      <td>0</td>\n",
              "    </tr>\n",
              "    <tr>\n",
              "      <th>16</th>\n",
              "      <td>17</td>\n",
              "      <td>309.415843</td>\n",
              "      <td>0.000000</td>\n",
              "      <td>0</td>\n",
              "    </tr>\n",
              "    <tr>\n",
              "      <th>17</th>\n",
              "      <td>18</td>\n",
              "      <td>309.415843</td>\n",
              "      <td>0.000000</td>\n",
              "      <td>0</td>\n",
              "    </tr>\n",
              "    <tr>\n",
              "      <th>18</th>\n",
              "      <td>19</td>\n",
              "      <td>305.506832</td>\n",
              "      <td>305.506832</td>\n",
              "      <td>1</td>\n",
              "    </tr>\n",
              "    <tr>\n",
              "      <th>19</th>\n",
              "      <td>20</td>\n",
              "      <td>305.506832</td>\n",
              "      <td>0.000000</td>\n",
              "      <td>0</td>\n",
              "    </tr>\n",
              "  </tbody>\n",
              "</table>\n",
              "</div>\n",
              "      <button class=\"colab-df-convert\" onclick=\"convertToInteractive('df-ce3e0ed4-8879-4f66-8583-e9df1335f9ac')\"\n",
              "              title=\"Convert this dataframe to an interactive table.\"\n",
              "              style=\"display:none;\">\n",
              "        \n",
              "  <svg xmlns=\"http://www.w3.org/2000/svg\" height=\"24px\"viewBox=\"0 0 24 24\"\n",
              "       width=\"24px\">\n",
              "    <path d=\"M0 0h24v24H0V0z\" fill=\"none\"/>\n",
              "    <path d=\"M18.56 5.44l.94 2.06.94-2.06 2.06-.94-2.06-.94-.94-2.06-.94 2.06-2.06.94zm-11 1L8.5 8.5l.94-2.06 2.06-.94-2.06-.94L8.5 2.5l-.94 2.06-2.06.94zm10 10l.94 2.06.94-2.06 2.06-.94-2.06-.94-.94-2.06-.94 2.06-2.06.94z\"/><path d=\"M17.41 7.96l-1.37-1.37c-.4-.4-.92-.59-1.43-.59-.52 0-1.04.2-1.43.59L10.3 9.45l-7.72 7.72c-.78.78-.78 2.05 0 2.83L4 21.41c.39.39.9.59 1.41.59.51 0 1.02-.2 1.41-.59l7.78-7.78 2.81-2.81c.8-.78.8-2.07 0-2.86zM5.41 20L4 18.59l7.72-7.72 1.47 1.35L5.41 20z\"/>\n",
              "  </svg>\n",
              "      </button>\n",
              "      \n",
              "  <style>\n",
              "    .colab-df-container {\n",
              "      display:flex;\n",
              "      flex-wrap:wrap;\n",
              "      gap: 12px;\n",
              "    }\n",
              "\n",
              "    .colab-df-convert {\n",
              "      background-color: #E8F0FE;\n",
              "      border: none;\n",
              "      border-radius: 50%;\n",
              "      cursor: pointer;\n",
              "      display: none;\n",
              "      fill: #1967D2;\n",
              "      height: 32px;\n",
              "      padding: 0 0 0 0;\n",
              "      width: 32px;\n",
              "    }\n",
              "\n",
              "    .colab-df-convert:hover {\n",
              "      background-color: #E2EBFA;\n",
              "      box-shadow: 0px 1px 2px rgba(60, 64, 67, 0.3), 0px 1px 3px 1px rgba(60, 64, 67, 0.15);\n",
              "      fill: #174EA6;\n",
              "    }\n",
              "\n",
              "    [theme=dark] .colab-df-convert {\n",
              "      background-color: #3B4455;\n",
              "      fill: #D2E3FC;\n",
              "    }\n",
              "\n",
              "    [theme=dark] .colab-df-convert:hover {\n",
              "      background-color: #434B5C;\n",
              "      box-shadow: 0px 1px 3px 1px rgba(0, 0, 0, 0.15);\n",
              "      filter: drop-shadow(0px 1px 2px rgba(0, 0, 0, 0.3));\n",
              "      fill: #FFFFFF;\n",
              "    }\n",
              "  </style>\n",
              "\n",
              "      <script>\n",
              "        const buttonEl =\n",
              "          document.querySelector('#df-ce3e0ed4-8879-4f66-8583-e9df1335f9ac button.colab-df-convert');\n",
              "        buttonEl.style.display =\n",
              "          google.colab.kernel.accessAllowed ? 'block' : 'none';\n",
              "\n",
              "        async function convertToInteractive(key) {\n",
              "          const element = document.querySelector('#df-ce3e0ed4-8879-4f66-8583-e9df1335f9ac');\n",
              "          const dataTable =\n",
              "            await google.colab.kernel.invokeFunction('convertToInteractive',\n",
              "                                                     [key], {});\n",
              "          if (!dataTable) return;\n",
              "\n",
              "          const docLinkHtml = 'Like what you see? Visit the ' +\n",
              "            '<a target=\"_blank\" href=https://colab.research.google.com/notebooks/data_table.ipynb>data table notebook</a>'\n",
              "            + ' to learn more about interactive tables.';\n",
              "          element.innerHTML = '';\n",
              "          dataTable['output_type'] = 'display_data';\n",
              "          await google.colab.output.renderOutput(dataTable, element);\n",
              "          const docLink = document.createElement('div');\n",
              "          docLink.innerHTML = docLinkHtml;\n",
              "          element.appendChild(docLink);\n",
              "        }\n",
              "      </script>\n",
              "    </div>\n",
              "  </div>\n",
              "  "
            ]
          },
          "metadata": {},
          "execution_count": 9
        }
      ]
    },
    {
      "cell_type": "code",
      "source": [
        "import statistics\n",
        "print(\"the mean of the distance is\",statistics.mean(fitneess_value_list),\"km\") # print the mean of the shortest distance\n",
        "print(\"the median of the distance is\",statistics.median(fitneess_value_list),\"km\") # print the median of the shortest distance\n",
        "fig = plt.figure(figsize =(15, 5)) # set the image size of box plot\n",
        "plt.boxplot(fitneess_value_list,showmeans=True) # Creating plot\n",
        "plt.show() # show plot"
      ],
      "metadata": {
        "id": "yljJr6XXd9Un",
        "colab": {
          "base_uri": "https://localhost:8080/",
          "height": 356
        },
        "outputId": "69a9846b-5691-43d0-cb69-5f4b1caf5ce7"
      },
      "execution_count": null,
      "outputs": [
        {
          "output_type": "stream",
          "name": "stdout",
          "text": [
            "the mean of the distance is 363.7192691532793 km\n",
            "the median of the distance is 377.99628762734955 km\n"
          ]
        },
        {
          "output_type": "display_data",
          "data": {
            "text/plain": [
              "<Figure size 1080x360 with 1 Axes>"
            ],
            "image/png": "[encoded data removed]"
          },
          "metadata": {}
        }
      ]
    },
    {
      "cell_type": "code",
      "source": [
        "# Step 5.6: Draw the result\n",
        "print('The optimal result of iteration：', gbest_fitness, \"km\") # print the result of optimal result after iteration\n",
        "print('Iterative optimal variables：', gbest) # print the result of iterative optimal variables\n",
        "\n",
        "plot_tsp(gbest) # draw TSP path graph\n",
        "plt.title('TSP Path Planning Results') # set the title of graph\n",
        "plt.show() # show the graph"
      ],
      "metadata": {
        "id": "jCWE9Iu5bIY5",
        "colab": {
          "base_uri": "https://localhost:8080/",
          "height": 331
        },
        "outputId": "5160a146-17cf-45ec-e5d6-0528d91ea508"
      },
      "execution_count": null,
      "outputs": [
        {
          "output_type": "stream",
          "name": "stdout",
          "text": [
            "The optimal result of iteration： 305.5068322926727 km\n",
            "Iterative optimal variables： [7 8 6 3 4 0 1 5 2 9]\n"
          ]
        },
        {
          "output_type": "display_data",
          "data": {
            "text/plain": [
              "<Figure size 432x288 with 1 Axes>"
            ],
            "image/png": "[encoded data removed]"
          },
          "metadata": {}
        }
      ]
    },
    {
      "cell_type": "code",
      "source": [
        "from sklearn.linear_model import LogisticRegression # import LogisticRegression library\n",
        "from sklearn.model_selection import train_test_split # import train_test_split library\n",
        "from sklearn.metrics import confusion_matrix, ConfusionMatrixDisplay, classification_report, accuracy_score # import calculation analysis library\n",
        "\n",
        "x = df[\"Shortest Distance\"] # assign data frame of \"Shortest Distance\" as x\n",
        "y = df[\"Improved\"]          # assign data frame of \"Improved\" as y\n",
        "x_train, x_test, y_train, y_test = train_test_split(x, y, test_size=0.5, train_size=0.5, shuffle=True) # split the dataset\n",
        "x_train = x_train.values.reshape(-1, 1) # reshape x_train data\n",
        "y_train = y_train.values.reshape(-1, 1) # reshape y_train data\n",
        "x_test = x_test.values.reshape(-1, 1)   # reshape x_test data\n",
        "y_test = y_test.values.reshape(-1, 1)   # reshape y_test data\n",
        "\n",
        "lr = LogisticRegression() # create a Logistic Regression object\n",
        "lr.fit(x_train, y_train.ravel()) # perform Logistic Regression\n",
        "y_pred = lr.predict(x_test) # make prediction\n",
        "\n",
        "# Display the confusion matrix\n",
        "cm = confusion_matrix(y_test, y_pred, labels=lr.classes_) # calculate the confusion matrix\n",
        "matrix = ConfusionMatrixDisplay(confusion_matrix=cm, display_labels=lr.classes_) # convert confusion matrix to image\n",
        "matrix.plot() # plot the confusion matrix\n",
        "plt.show() # display the confusion matrix\n",
        "\n",
        "# Evaluate the model on the test data set\n",
        "print('value of coefficient:',lr.coef_) # print the coefficient\n",
        "print('value of intercept:',lr.intercept_) # print the intercept\n",
        "print(classification_report(y_test ,y_pred,labels=np.unique(y_pred))) # print the classification_report\n",
        "print('Confusion Matrix: \\n', confusion_matrix(y_test,y_pred)) # print the simple confusion matrix"
      ],
      "metadata": {
        "id": "w8j7s5LPIE6q",
        "colab": {
          "base_uri": "https://localhost:8080/",
          "height": 537
        },
        "outputId": "1304b5de-747f-4f06-c837-862afd8e947c"
      },
      "execution_count": null,
      "outputs": [
        {
          "output_type": "display_data",
          "data": {
            "text/plain": [
              "<Figure size 432x288 with 2 Axes>"
            ],
            "image/png": "[encoded data removed]"
          },
          "metadata": {}
        },
        {
          "output_type": "stream",
          "name": "stdout",
          "text": [
            "value of coefficient: [[0.01823679]]\n",
            "value of intercept: [-7.42189373]\n",
            "              precision    recall  f1-score   support\n",
            "\n",
            "           0       0.67      1.00      0.80         6\n",
            "           1       1.00      0.25      0.40         4\n",
            "\n",
            "    accuracy                           0.70        10\n",
            "   macro avg       0.83      0.62      0.60        10\n",
            "weighted avg       0.80      0.70      0.64        10\n",
            "\n",
            "Confusion Matrix: \n",
            " [[6 0]\n",
            " [3 1]]\n"
          ]
        }
      ]
    },
    {
      "cell_type": "markdown",
      "source": [
        "**END OF CODE**"
      ],
      "metadata": {
        "id": "dakTa_BMyyMu"
      }
    }
  ]
}